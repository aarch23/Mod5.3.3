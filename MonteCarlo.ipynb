{
 "cells": [
  {
   "cell_type": "code",
   "execution_count": 1,
   "id": "41ba746c-dfa5-4b2a-a338-f9b4e7c184d5",
   "metadata": {},
   "outputs": [],
   "source": [
    "# Import the required libraries and dependencies\n",
    "\n",
    "import os\n",
    "from dotenv import load_dotenv\n",
    "import pandas as pd\n",
    "import alpaca_trade_api as tradeapi"
   ]
  },
  {
   "cell_type": "code",
   "execution_count": 2,
   "id": "d0ff4534-9de6-4a1f-90b1-5bcc76f7edfd",
   "metadata": {},
   "outputs": [
    {
     "data": {
      "text/plain": [
       "True"
      ]
     },
     "execution_count": 2,
     "metadata": {},
     "output_type": "execute_result"
    }
   ],
   "source": [
    "# Load .env environment variables\n",
    "\n",
    "load_dotenv(\".env\")"
   ]
  },
  {
   "cell_type": "code",
   "execution_count": 3,
   "id": "1839b31d-6fb8-4369-a34f-c81a797f707b",
   "metadata": {},
   "outputs": [
    {
     "data": {
      "text/plain": [
       "str"
      ]
     },
     "execution_count": 3,
     "metadata": {},
     "output_type": "execute_result"
    }
   ],
   "source": [
    "# Set Alpaca API key and secret key\n",
    "\n",
    "alpaca_api_key = os.getenv(\"ALPACA_API_KEY\")\n",
    "alpaca_secret_key = os.getenv(\"ALPACA_SECRET_KEY\")\n",
    "type(alpaca_secret_key )"
   ]
  },
  {
   "cell_type": "code",
   "execution_count": 4,
   "id": "b1986e0e-58e0-4998-a7ce-324f3cc59ff1",
   "metadata": {},
   "outputs": [],
   "source": [
    "# Create the Alpaca REST object\n",
    "\n",
    "alpaca = tradeapi.REST(\n",
    "    alpaca_api_key,\n",
    "    alpaca_secret_key,\n",
    "    api_version=\"v2\"\n",
    ")"
   ]
  },
  {
   "cell_type": "code",
   "execution_count": 5,
   "id": "a9a00f2d-d34e-4bde-ad1d-fbfcbc711d3f",
   "metadata": {},
   "outputs": [],
   "source": [
    "tickers = [\"MSFT\", \"KO\"]"
   ]
  },
  {
   "cell_type": "code",
   "execution_count": 6,
   "id": "31262bac-24d1-4691-9712-7dd5c864d12b",
   "metadata": {},
   "outputs": [],
   "source": [
    "# Set timeframe to '1Day'\n",
    "\n",
    "timeframe = \"1Day\""
   ]
  },
  {
   "cell_type": "code",
   "execution_count": 7,
   "id": "0abfe281-fbdc-4931-996d-99c5cc3999e7",
   "metadata": {},
   "outputs": [],
   "source": [
    "# Set start and end datetimes between now and 3 years ago\n",
    "\n",
    "start_date = pd.Timestamp(\"2017-05-01\", tz=\"America/New_York\").isoformat()\n",
    "end_date = pd.Timestamp(\"2020-05-01\", tz=\"America/New_York\").isoformat()"
   ]
  },
  {
   "cell_type": "code",
   "execution_count": 8,
   "id": "ba575979-957f-4553-a9c2-1da4dc99dcb9",
   "metadata": {},
   "outputs": [],
   "source": [
    "# Get 3 years’ worth of historical price data for Microsoft and Coca-Cola\n",
    "\n",
    "prices_df = alpaca.get_bars(\n",
    "    tickers,\n",
    "    timeframe,\n",
    "    start=start_date,\n",
    "    end=end_date\n",
    ").df"
   ]
  },
  {
   "cell_type": "code",
   "execution_count": 9,
   "id": "4ecefc8f-e4ef-42bd-a9c3-882ffc6247ca",
   "metadata": {},
   "outputs": [],
   "source": [
    "# Reorganize the DataFrame\n",
    "# Separate ticker data\n",
    "\n",
    "MSFT = prices_df[prices_df['symbol']=='MSFT'].drop('symbol', axis=1)\n",
    "KO = prices_df[prices_df['symbol']=='KO'].drop('symbol', axis=1)"
   ]
  },
  {
   "cell_type": "code",
   "execution_count": 10,
   "id": "429e00bc-78b0-4425-9b09-2842d61d6400",
   "metadata": {},
   "outputs": [],
   "source": [
    "# Concatenate the ticker DataFrames\n",
    "\n",
    "prices_df = pd.concat([MSFT, KO], axis=1, keys=[\"MSFT\", \"KO\"])"
   ]
  },
  {
   "cell_type": "code",
   "execution_count": 11,
   "id": "96ad8009-5389-4ccc-a222-218ab7d6e1bc",
   "metadata": {},
   "outputs": [
    {
     "data": {
      "text/html": [
       "<div>\n",
       "<style scoped>\n",
       "    .dataframe tbody tr th:only-of-type {\n",
       "        vertical-align: middle;\n",
       "    }\n",
       "\n",
       "    .dataframe tbody tr th {\n",
       "        vertical-align: top;\n",
       "    }\n",
       "\n",
       "    .dataframe thead tr th {\n",
       "        text-align: left;\n",
       "    }\n",
       "\n",
       "    .dataframe thead tr:last-of-type th {\n",
       "        text-align: right;\n",
       "    }\n",
       "</style>\n",
       "<table border=\"1\" class=\"dataframe\">\n",
       "  <thead>\n",
       "    <tr>\n",
       "      <th></th>\n",
       "      <th colspan=\"7\" halign=\"left\">MSFT</th>\n",
       "      <th colspan=\"7\" halign=\"left\">KO</th>\n",
       "    </tr>\n",
       "    <tr>\n",
       "      <th></th>\n",
       "      <th>open</th>\n",
       "      <th>high</th>\n",
       "      <th>low</th>\n",
       "      <th>close</th>\n",
       "      <th>volume</th>\n",
       "      <th>trade_count</th>\n",
       "      <th>vwap</th>\n",
       "      <th>open</th>\n",
       "      <th>high</th>\n",
       "      <th>low</th>\n",
       "      <th>close</th>\n",
       "      <th>volume</th>\n",
       "      <th>trade_count</th>\n",
       "      <th>vwap</th>\n",
       "    </tr>\n",
       "    <tr>\n",
       "      <th>timestamp</th>\n",
       "      <th></th>\n",
       "      <th></th>\n",
       "      <th></th>\n",
       "      <th></th>\n",
       "      <th></th>\n",
       "      <th></th>\n",
       "      <th></th>\n",
       "      <th></th>\n",
       "      <th></th>\n",
       "      <th></th>\n",
       "      <th></th>\n",
       "      <th></th>\n",
       "      <th></th>\n",
       "      <th></th>\n",
       "    </tr>\n",
       "  </thead>\n",
       "  <tbody>\n",
       "    <tr>\n",
       "      <th>2017-05-01 04:00:00+00:00</th>\n",
       "      <td>68.68</td>\n",
       "      <td>69.55</td>\n",
       "      <td>68.500</td>\n",
       "      <td>69.41</td>\n",
       "      <td>31954462</td>\n",
       "      <td>159425</td>\n",
       "      <td>69.161515</td>\n",
       "      <td>43.15</td>\n",
       "      <td>43.500</td>\n",
       "      <td>43.10</td>\n",
       "      <td>43.22</td>\n",
       "      <td>13213724</td>\n",
       "      <td>51614</td>\n",
       "      <td>43.317026</td>\n",
       "    </tr>\n",
       "    <tr>\n",
       "      <th>2017-05-02 04:00:00+00:00</th>\n",
       "      <td>69.71</td>\n",
       "      <td>69.71</td>\n",
       "      <td>69.130</td>\n",
       "      <td>69.30</td>\n",
       "      <td>23906119</td>\n",
       "      <td>127335</td>\n",
       "      <td>69.418084</td>\n",
       "      <td>43.22</td>\n",
       "      <td>43.440</td>\n",
       "      <td>43.16</td>\n",
       "      <td>43.39</td>\n",
       "      <td>11825216</td>\n",
       "      <td>53704</td>\n",
       "      <td>43.327701</td>\n",
       "    </tr>\n",
       "    <tr>\n",
       "      <th>2017-05-03 04:00:00+00:00</th>\n",
       "      <td>69.26</td>\n",
       "      <td>69.38</td>\n",
       "      <td>68.710</td>\n",
       "      <td>69.08</td>\n",
       "      <td>28927975</td>\n",
       "      <td>146503</td>\n",
       "      <td>68.935096</td>\n",
       "      <td>43.33</td>\n",
       "      <td>43.485</td>\n",
       "      <td>43.15</td>\n",
       "      <td>43.32</td>\n",
       "      <td>10404027</td>\n",
       "      <td>49212</td>\n",
       "      <td>43.355317</td>\n",
       "    </tr>\n",
       "    <tr>\n",
       "      <th>2017-05-04 04:00:00+00:00</th>\n",
       "      <td>69.03</td>\n",
       "      <td>69.08</td>\n",
       "      <td>68.640</td>\n",
       "      <td>68.81</td>\n",
       "      <td>21749409</td>\n",
       "      <td>109653</td>\n",
       "      <td>68.820273</td>\n",
       "      <td>43.45</td>\n",
       "      <td>43.810</td>\n",
       "      <td>43.40</td>\n",
       "      <td>43.66</td>\n",
       "      <td>10193084</td>\n",
       "      <td>46642</td>\n",
       "      <td>43.634758</td>\n",
       "    </tr>\n",
       "    <tr>\n",
       "      <th>2017-05-05 04:00:00+00:00</th>\n",
       "      <td>68.88</td>\n",
       "      <td>69.03</td>\n",
       "      <td>68.485</td>\n",
       "      <td>69.00</td>\n",
       "      <td>19128782</td>\n",
       "      <td>94910</td>\n",
       "      <td>68.801152</td>\n",
       "      <td>43.84</td>\n",
       "      <td>43.840</td>\n",
       "      <td>43.56</td>\n",
       "      <td>43.69</td>\n",
       "      <td>8133039</td>\n",
       "      <td>38314</td>\n",
       "      <td>43.668253</td>\n",
       "    </tr>\n",
       "  </tbody>\n",
       "</table>\n",
       "</div>"
      ],
      "text/plain": [
       "                            MSFT                                              \\\n",
       "                            open   high     low  close    volume trade_count   \n",
       "timestamp                                                                      \n",
       "2017-05-01 04:00:00+00:00  68.68  69.55  68.500  69.41  31954462      159425   \n",
       "2017-05-02 04:00:00+00:00  69.71  69.71  69.130  69.30  23906119      127335   \n",
       "2017-05-03 04:00:00+00:00  69.26  69.38  68.710  69.08  28927975      146503   \n",
       "2017-05-04 04:00:00+00:00  69.03  69.08  68.640  68.81  21749409      109653   \n",
       "2017-05-05 04:00:00+00:00  68.88  69.03  68.485  69.00  19128782       94910   \n",
       "\n",
       "                                         KO                                  \\\n",
       "                                vwap   open    high    low  close    volume   \n",
       "timestamp                                                                     \n",
       "2017-05-01 04:00:00+00:00  69.161515  43.15  43.500  43.10  43.22  13213724   \n",
       "2017-05-02 04:00:00+00:00  69.418084  43.22  43.440  43.16  43.39  11825216   \n",
       "2017-05-03 04:00:00+00:00  68.935096  43.33  43.485  43.15  43.32  10404027   \n",
       "2017-05-04 04:00:00+00:00  68.820273  43.45  43.810  43.40  43.66  10193084   \n",
       "2017-05-05 04:00:00+00:00  68.801152  43.84  43.840  43.56  43.69   8133039   \n",
       "\n",
       "                                                  \n",
       "                          trade_count       vwap  \n",
       "timestamp                                         \n",
       "2017-05-01 04:00:00+00:00       51614  43.317026  \n",
       "2017-05-02 04:00:00+00:00       53704  43.327701  \n",
       "2017-05-03 04:00:00+00:00       49212  43.355317  \n",
       "2017-05-04 04:00:00+00:00       46642  43.634758  \n",
       "2017-05-05 04:00:00+00:00       38314  43.668253  "
      ]
     },
     "execution_count": 11,
     "metadata": {},
     "output_type": "execute_result"
    }
   ],
   "source": [
    "# Review the first 5 rows of the DataFrame\n",
    "\n",
    "prices_df.head()"
   ]
  },
  {
   "cell_type": "code",
   "execution_count": 12,
   "id": "c071d9f8-2b3b-4617-8733-af133f1898eb",
   "metadata": {},
   "outputs": [
    {
     "ename": "ModuleNotFoundError",
     "evalue": "No module named 'MCForecastTools'",
     "output_type": "error",
     "traceback": [
      "\u001b[1;31m---------------------------------------------------------------------------\u001b[0m",
      "\u001b[1;31mModuleNotFoundError\u001b[0m                       Traceback (most recent call last)",
      "\u001b[1;32m~\\AppData\\Local\\Temp/ipykernel_16960/699168984.py\u001b[0m in \u001b[0;36m<module>\u001b[1;34m\u001b[0m\n\u001b[0;32m      1\u001b[0m \u001b[1;31m# Import the MCSimulation module from the MCForecastTools library file\u001b[0m\u001b[1;33m\u001b[0m\u001b[1;33m\u001b[0m\u001b[0m\n\u001b[0;32m      2\u001b[0m \u001b[1;33m\u001b[0m\u001b[0m\n\u001b[1;32m----> 3\u001b[1;33m \u001b[1;32mfrom\u001b[0m \u001b[0mMCForecastTools\u001b[0m \u001b[1;32mimport\u001b[0m \u001b[0mMCSimulation\u001b[0m\u001b[1;33m\u001b[0m\u001b[1;33m\u001b[0m\u001b[0m\n\u001b[0m",
      "\u001b[1;31mModuleNotFoundError\u001b[0m: No module named 'MCForecastTools'"
     ]
    }
   ],
   "source": [
    "# Import the MCSimulation module from the MCForecastTools library file\n",
    "\n",
    "from MCForecastTools import MCSimulation"
   ]
  },
  {
   "cell_type": "code",
   "execution_count": null,
   "id": "8c8ce050-58b7-41ee-9d1f-afcbf6759046",
   "metadata": {},
   "outputs": [],
   "source": []
  }
 ],
 "metadata": {
  "kernelspec": {
   "display_name": "Python 3 (ipykernel)",
   "language": "python",
   "name": "python3"
  },
  "language_info": {
   "codemirror_mode": {
    "name": "ipython",
    "version": 3
   },
   "file_extension": ".py",
   "mimetype": "text/x-python",
   "name": "python",
   "nbconvert_exporter": "python",
   "pygments_lexer": "ipython3",
   "version": "3.9.7"
  }
 },
 "nbformat": 4,
 "nbformat_minor": 5
}
